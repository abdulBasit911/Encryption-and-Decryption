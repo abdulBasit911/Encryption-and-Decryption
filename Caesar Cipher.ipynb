import math

class TranspositionCipher(object):
    """
    A class for performing columnar transposition cipher encryption and decryption.
    """

    def __init__(self, key):
        """
        Initializes a new TranspositionCipher object.

        Args:
            key: The cipher key to use (must be a string of digits).
        """
        if not key.isdigit():
            raise ValueError("Key must be a string of digits.")
        self.key = int(key)

    def encrypt_message(self, message):
        """
        Encrypts a message using the columnar transposition cipher.

        Args:
            message: The message to encrypt (string).

        Returns:
            The encrypted message (string).
        """
        # Convert the message to lowercase characters for consistency
        message = message.lower()
        message_length = len(message)
        num_cols = self.key
        num_rows = (message_length + num_cols - 1) // num_cols

        # Create an empty grid to store the message characters
        grid = [['' for _ in range(num_cols)] for _ in range(num_rows)]

        # Populate the grid with characters from the message
        for i, char in enumerate(message):
            row = i // num_cols
            col = i % num_cols
            grid[row][col] = char

        # Read characters from the grid in column-major order to get the encrypted message
        encrypted_message = ''
        for col in range(num_cols):
            for row in range(num_rows):
                encrypted_message += grid[row][col]

        return encrypted_message

    def decrypt_message(self, message):
        """
        Decrypts a message using the columnar transposition cipher.

        Args:
            message: The encrypted message (string).

        Returns:
            The decrypted message (string).
        """
        # Split the message into a list of characters
        message_split = list(message)

        # Compute the total length of the message
        message_length = len(message_split)

        # Calculate the ceiling value of the ratio of the message length to the key size
        message_ceil = math.ceil(message_length / self.key)

        # Calculate the number of empty cells in the decryption grid
        num_empty_cells = message_ceil * self.key - message_length

        # Initialize a 2D grid with empty strings
        message_grid = [['' for _ in range(self.key)] for _ in range(message_ceil)]

        # Initialize an empty string for the decrypted message
        message_decrypted = ''

        # Create an iterator object from the list of characters
        iterator = iter(message_split)

        # Nested for-loops for filling in the grid
        for col in range(self.key):
            for row in range(message_ceil):
                # Check if it's an empty cell (ignore)
                if row * self.key + col >= message_length:
                    continue
                # Fill the cell with the next character from the message
                message_grid[row][col] = next(iterator)

        # Nested for-loops for decrypting the message
        for row in range(message_ceil):
            for col in range(self.key):
                message_decrypted += message_grid[row][col]

        return message_decrypted.strip()  # Strip any leading/trailing spaces

# Example usage and testing
cipher = TranspositionCipher(key="6")
message = '''Learning Python is fun'''
encrypted_message = cipher.encrypt_message(message)
decrypted_message = cipher.decrypt_message(encrypted_message)

print("Original Message:", message)
print("Encrypted Message:", encrypted_message)
print("Decrypted Message:", decrypted_message)
